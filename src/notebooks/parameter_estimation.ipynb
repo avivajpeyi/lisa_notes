{
 "cells": [
  {
   "cell_type": "markdown",
   "source": [
    "# Parameter estimation with LISA\n",
    "\n",
    "This paper, [\"Prototype Global Analysis of LISA Data with Multiple Source Types\", Tyson B. Littenberg, Neil J. Cornish, 2023](https://arxiv.org/abs/2301.03673) describes a global-fit pipeline for LISA data analysis.\n",
    "\n",
    "They analyse LISA data with\n",
    "- Instrument noise\n",
    "- Many galactic binaries\n",
    "- Few massive BH binaries\n",
    "\n"
   ],
   "metadata": {
    "collapsed": false
   }
  }
 ],
 "metadata": {
  "kernelspec": {
   "name": "compas",
   "language": "python",
   "display_name": "compas"
  },
  "language_info": {
   "codemirror_mode": {
    "name": "ipython",
    "version": 2
   },
   "file_extension": ".py",
   "mimetype": "text/x-python",
   "name": "python",
   "nbconvert_exporter": "python",
   "pygments_lexer": "ipython2",
   "version": "2.7.6"
  }
 },
 "nbformat": 4,
 "nbformat_minor": 0
}
