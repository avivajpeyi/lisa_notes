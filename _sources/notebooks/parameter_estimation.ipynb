{
 "cells": [
  {
   "cell_type": "markdown",
   "source": [
    "# Parameter estimation with LISA\n",
    "\n",
    "Simple example with\n",
    "- Instrument noise\n",
    "- Power law GW background\n",
    "- Few galactic binaries\n",
    "- Few weeks of data\n"
   ],
   "metadata": {
    "collapsed": false
   }
  }
 ],
 "metadata": {
  "kernelspec": {
   "name": "compas",
   "language": "python",
   "display_name": "compas"
  },
  "language_info": {
   "codemirror_mode": {
    "name": "ipython",
    "version": 2
   },
   "file_extension": ".py",
   "mimetype": "text/x-python",
   "name": "python",
   "nbconvert_exporter": "python",
   "pygments_lexer": "ipython2",
   "version": "2.7.6"
  }
 },
 "nbformat": 4,
 "nbformat_minor": 0
}
